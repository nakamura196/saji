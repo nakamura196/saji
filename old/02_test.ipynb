{
 "cells": [
  {
   "cell_type": "code",
   "execution_count": 15,
   "metadata": {},
   "outputs": [],
   "source": [
    "import pandas as pd\n",
    "from glob import glob\n",
    "import xml.etree.ElementTree as ET\n",
    "import json"
   ]
  },
  {
   "cell_type": "code",
   "execution_count": 16,
   "metadata": {},
   "outputs": [],
   "source": [
    "old_path = \"./data/カタログデータ - 新規画像撮影の対応表.csv\"\n",
    "\n",
    "old_df = pd.read_csv(old_path)\n",
    "\n",
    "old_map = {}\n",
    "\n",
    "old_map_extra = {}\n",
    "\n",
    "for index, row in old_df.iterrows():\n",
    "    value = row[\"画像一覧\"]\n",
    "    if pd.isna(value):\n",
    "        continue\n",
    "\n",
    "    id_new = row[\"dcterms:identifer\"]\n",
    "\n",
    "    if pd.isna(id_new):\n",
    "        continue\n",
    "    \n",
    "    old_map[row[\"現在のアイテムID\"]] = id_new\n",
    "\n",
    "# old_map\n",
    "\n",
    "with open(\"./tmp/old_map.json\", \"w\") as f:\n",
    "    json.dump(old_map, f)\n"
   ]
  },
  {
   "cell_type": "code",
   "execution_count": 22,
   "metadata": {},
   "outputs": [],
   "source": [
    "files = glob(\"../docs/tei3/*.xml\")\n",
    "\n",
    "files.sort()\n",
    "\n",
    "errors = []\n",
    "\n",
    "for file in files:\n",
    "    old_id = file.split(\"/\")[-1].split(\".\")[0]\n",
    "\n",
    "    if old_id.startswith(\"Tursko\"):\n",
    "        continue\n",
    "\n",
    "    if old_id not in old_map:\n",
    "        # print(old_id, old_map[old_id])\n",
    "        errors.append(old_id)\n",
    "\n",
    "        continue\n",
    "\n",
    "    new_id = old_map[old_id]\n",
    "\n",
    "    tree = ET.parse(file)\n",
    "    root = tree.getroot()\n",
    "\n",
    "\n",
    "    root.find(\".//{http://www.tei-c.org/ns/1.0}title\").text = new_id"
   ]
  }
 ],
 "metadata": {
  "kernelspec": {
   "display_name": "Python 3",
   "language": "python",
   "name": "python3"
  },
  "language_info": {
   "codemirror_mode": {
    "name": "ipython",
    "version": 3
   },
   "file_extension": ".py",
   "mimetype": "text/x-python",
   "name": "python",
   "nbconvert_exporter": "python",
   "pygments_lexer": "ipython3",
   "version": "3.9.11"
  }
 },
 "nbformat": 4,
 "nbformat_minor": 2
}
