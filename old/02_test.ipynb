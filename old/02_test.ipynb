{
 "cells": [
  {
   "cell_type": "code",
   "execution_count": 15,
   "metadata": {},
   "outputs": [],
   "source": [
    "import pandas as pd\n",
    "from glob import glob\n",
    "import xml.etree.ElementTree as ET\n",
    "import json"
   ]
  },
  {
   "cell_type": "code",
   "execution_count": 16,
   "metadata": {},
   "outputs": [],
   "source": [
    "old_path = \"./data/カタログデータ - 新規画像撮影の対応表.csv\"\n",
    "\n",
    "old_df = pd.read_csv(old_path)\n",
    "\n",
    "old_map = {}\n",
    "\n",
    "old_map_extra = {}\n",
    "\n",
    "for index, row in old_df.iterrows():\n",
    "    value = row[\"画像一覧\"]\n",
    "    if pd.isna(value):\n",
    "        continue\n",
    "\n",
    "    id_new = row[\"dcterms:identifer\"]\n",
    "\n",
    "    if pd.isna(id_new):\n",
    "        continue\n",
    "    \n",
    "    old_map[row[\"現在のアイテムID\"]] = id_new\n",
    "\n",
    "# old_map\n",
    "\n",
    "with open(\"./tmp/old_map.json\", \"w\") as f:\n",
    "    json.dump(old_map, f)\n"
   ]
  },
  {
   "cell_type": "code",
   "execution_count": 22,
   "metadata": {},
   "outputs": [],
   "source": [
    "files = glob(\"../docs/tei3/*.xml\")\n",
    "\n",
    "files.sort()\n",
    "\n",
    "errors = []\n",
    "\n",
    "for file in files:\n",
    "    old_id = file.split(\"/\")[-1].split(\".\")[0]\n",
    "\n",
    "    if old_id.startswith(\"Tursko\"):\n",
    "        continue\n",
    "\n",
    "    if old_id not in old_map:\n",
    "        # print(old_id, old_map[old_id])\n",
    "        errors.append(old_id)\n",
    "\n",
    "        continue\n",
    "\n",
    "    new_id = old_map[old_id]\n",
    "\n",
    "    tree = ET.parse(file)\n",
    "    root = tree.getroot()\n",
    "\n",
    "    root.find(\".//{http://www.tei-c.org/ns/1.0}title\").text = new_id\n",
    "\n",
    "    tree.write(file)\n",
    "\n",
    "    break\n",
    "\n",
    "\n"
   ]
  },
  {
   "cell_type": "code",
   "execution_count": 24,
   "metadata": {},
   "outputs": [],
   "source": [
    "from tqdm import tqdm"
   ]
  },
  {
   "cell_type": "code",
   "execution_count": 26,
   "metadata": {},
   "outputs": [],
   "source": [
    "from xml.dom import minidom\n",
    "import re"
   ]
  },
  {
   "cell_type": "code",
   "execution_count": 27,
   "metadata": {},
   "outputs": [],
   "source": [
    "\n",
    "def prettify(rough_string):\n",
    "    reparsed = minidom.parseString(rough_string)\n",
    "    xml_declaration = '''<?xml version=\"1.0\" encoding=\"UTF-8\"?>\n",
    "<?xml-model href=\"http://www.tei-c.org/release/xml/tei/custom/schema/relaxng/tei_all.rng\" type=\"application/xml\" schematypens=\"http://relaxng.org/ns/structure/1.0\"?>\n",
    "<?xml-model href=\"http://www.tei-c.org/release/xml/tei/custom/schema/relaxng/tei_all.rng\" type=\"application/xml\"\n",
    "\tschematypens=\"http://purl.oclc.org/dsdl/schematron\"?>'''\n",
    "\n",
    "    # まずprettyXMLを取得\n",
    "    pretty = reparsed.toprettyxml(indent=\"\\t\")\n",
    "    \n",
    "    # XML宣言を置き換え\n",
    "    pretty = re.sub(r'<\\?xml.*?\\?>', xml_declaration, pretty, flags=re.DOTALL)\n",
    "    \n",
    "    # 整形処理\n",
    "    pretty = re.sub(r\"[\\t ]+\\n\", \"\", pretty)  # インデント後の不要な改行を削除\n",
    "    pretty = pretty.replace(\">\\n\\n\\t<\", \">\\n\\t<\")  # 不要な空行を削除\n",
    "    pretty = re.sub(r\"\\n\\s*\\n\", \"\\n\", pretty)  # 連続した改行（空白行を含む）を単一の改行に置換\n",
    "    \n",
    "    # エスケープされた引用符を元に戻す\n",
    "    pretty = pretty.replace(\"&quot;\", \"\\\"\")\n",
    "    \n",
    "    return pretty"
   ]
  },
  {
   "cell_type": "code",
   "execution_count": 28,
   "metadata": {},
   "outputs": [
    {
     "name": "stderr",
     "output_type": "stream",
     "text": [
      "100%|██████████| 1049/1049 [00:02<00:00, 521.14it/s]\n"
     ]
    }
   ],
   "source": [
    "files = glob(\"../docs/tei3/*.xml\")\n",
    "\n",
    "files.sort()\n",
    "\n",
    "errors = []\n",
    "\n",
    "ET.register_namespace('', \"http://www.tei-c.org/ns/1.0\")\n",
    "\n",
    "for file in tqdm(files):\n",
    "    file_id = file.split(\"/\")[-1].split(\".\")[0]\n",
    "\n",
    "    \n",
    "\n",
    "    tree = ET.parse(file)\n",
    "    root = tree.getroot()\n",
    "\n",
    "    root.find(\".//{http://www.tei-c.org/ns/1.0}title\").text = file_id\n",
    "\n",
    "    with open(file, \"w\") as f:\n",
    "        f.write(prettify(ET.tostring(root, encoding=\"utf-8\").decode(\"utf-8\")))\n",
    "\n",
    "\n",
    "\n"
   ]
  },
  {
   "cell_type": "code",
   "execution_count": null,
   "metadata": {},
   "outputs": [],
   "source": []
  }
 ],
 "metadata": {
  "kernelspec": {
   "display_name": "Python 3",
   "language": "python",
   "name": "python3"
  },
  "language_info": {
   "codemirror_mode": {
    "name": "ipython",
    "version": 3
   },
   "file_extension": ".py",
   "mimetype": "text/x-python",
   "name": "python",
   "nbconvert_exporter": "python",
   "pygments_lexer": "ipython3",
   "version": "3.9.11"
  }
 },
 "nbformat": 4,
 "nbformat_minor": 2
}
