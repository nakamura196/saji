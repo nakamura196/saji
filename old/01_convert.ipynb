{
 "cells": [
  {
   "cell_type": "code",
   "execution_count": 243,
   "metadata": {},
   "outputs": [],
   "source": [
    "import pandas as pd\n",
    "from glob import glob\n",
    "import xml.etree.ElementTree as ET\n",
    "import json"
   ]
  },
  {
   "cell_type": "code",
   "execution_count": 244,
   "metadata": {},
   "outputs": [],
   "source": [
    "from xml.dom import minidom\n",
    "import re\n",
    "def prettify(rough_string):\n",
    "    reparsed = minidom.parseString(rough_string)\n",
    "    pretty = re.sub(r\"[\\t ]+\\n\", \"\", reparsed.toprettyxml(indent=\"\\t\"))  # インデント後の不要な改行を削除\n",
    "    pretty = pretty.replace(\">\\n\\n\\t<\", \">\\n\\t<\")  # 不要な空行を削除\n",
    "    pretty = re.sub(r\"\\n\\s*\\n\", \"\\n\", pretty)  # 連続した改行（空白行を含む）を単一の改行に置換\n",
    "    # エスケープされた引用符を元に戻す\n",
    "    pretty = pretty.replace(\"&quot;\", \"\\\"\")\n",
    "    return pretty"
   ]
  },
  {
   "cell_type": "code",
   "execution_count": 245,
   "metadata": {},
   "outputs": [],
   "source": [
    "old_path = \"./data/カタログデータ - 新規画像撮影の対応表.csv\"\n",
    "\n",
    "old_df = pd.read_csv(old_path)\n",
    "\n",
    "old_map = {}\n",
    "\n",
    "old_map_extra = {}\n",
    "\n",
    "for index, row in old_df.iterrows():\n",
    "    value = row[\"画像一覧\"]\n",
    "    if pd.isna(value):\n",
    "        continue\n",
    "    old_map[row[\"現在のアイテムID\"]] = {\n",
    "        \"id_new\": row[\"dcterms:identifer\"],\n",
    "        \"files\": value.split(\"|\"),\n",
    "        \"folder\": row[\"現在のフォルダ\"]\n",
    "    }\n",
    "\n",
    "    for basename in value.split(\"|\"):\n",
    "        old_map_extra[basename] = row[\"現在のフォルダ\"]\n",
    "\n",
    "# old_map"
   ]
  },
  {
   "cell_type": "code",
   "execution_count": 246,
   "metadata": {},
   "outputs": [],
   "source": [
    "# old_map_extra"
   ]
  },
  {
   "cell_type": "code",
   "execution_count": 247,
   "metadata": {},
   "outputs": [],
   "source": [
    "new_path = \"./data/カタログデータ - 画像のID一覧_OCR.csv\"\n",
    "\n",
    "new_df = pd.read_csv(new_path)\n",
    "\n",
    "new_map = {}\n",
    "\n",
    "for index, row in new_df.iterrows():\n",
    "    id = row[\"o:item\"]\n",
    "\n",
    "\n",
    "    if pd.isna(id):\n",
    "        continue\n",
    "\n",
    "    if id not in new_map:\n",
    "        new_map[id] = []\n",
    "\n",
    "    image_path = row[\"画像のファイルパス\"] + \".JPG\"\n",
    "\n",
    "    new_map[id].append(image_path)\n",
    "\n",
    "# new_map\n"
   ]
  },
  {
   "cell_type": "code",
   "execution_count": 248,
   "metadata": {},
   "outputs": [
    {
     "ename": "TypeError",
     "evalue": "cannot serialize None (type NoneType)",
     "output_type": "error",
     "traceback": [
      "\u001b[0;31m---------------------------------------------------------------------------\u001b[0m",
      "\u001b[0;31mTypeError\u001b[0m                                 Traceback (most recent call last)",
      "File \u001b[0;32m~/.pyenv/versions/3.9.11/lib/python3.9/xml/etree/ElementTree.py:1052\u001b[0m, in \u001b[0;36m_escape_attrib\u001b[0;34m(text)\u001b[0m\n\u001b[1;32m   1051\u001b[0m \u001b[38;5;28;01mtry\u001b[39;00m:\n\u001b[0;32m-> 1052\u001b[0m     \u001b[38;5;28;01mif\u001b[39;00m \u001b[38;5;124;43m\"\u001b[39;49m\u001b[38;5;124;43m&\u001b[39;49m\u001b[38;5;124;43m\"\u001b[39;49m\u001b[43m \u001b[49m\u001b[38;5;129;43;01min\u001b[39;49;00m\u001b[43m \u001b[49m\u001b[43mtext\u001b[49m:\n\u001b[1;32m   1053\u001b[0m         text \u001b[38;5;241m=\u001b[39m text\u001b[38;5;241m.\u001b[39mreplace(\u001b[38;5;124m\"\u001b[39m\u001b[38;5;124m&\u001b[39m\u001b[38;5;124m\"\u001b[39m, \u001b[38;5;124m\"\u001b[39m\u001b[38;5;124m&amp;\u001b[39m\u001b[38;5;124m\"\u001b[39m)\n",
      "\u001b[0;31mTypeError\u001b[0m: argument of type 'NoneType' is not iterable",
      "\nDuring handling of the above exception, another exception occurred:\n",
      "\u001b[0;31mTypeError\u001b[0m                                 Traceback (most recent call last)",
      "Cell \u001b[0;32mIn[248], line 143\u001b[0m\n\u001b[1;32m    141\u001b[0m     opath \u001b[38;5;241m=\u001b[39m file\u001b[38;5;241m.\u001b[39mreplace(\u001b[38;5;124m\"\u001b[39m\u001b[38;5;124mtei3_original\u001b[39m\u001b[38;5;124m\"\u001b[39m, \u001b[38;5;124m\"\u001b[39m\u001b[38;5;124mtei3\u001b[39m\u001b[38;5;124m\"\u001b[39m)\n\u001b[1;32m    142\u001b[0m     \u001b[38;5;28;01mwith\u001b[39;00m \u001b[38;5;28mopen\u001b[39m(opath, \u001b[38;5;124m\"\u001b[39m\u001b[38;5;124mw\u001b[39m\u001b[38;5;124m\"\u001b[39m) \u001b[38;5;28;01mas\u001b[39;00m f:\n\u001b[0;32m--> 143\u001b[0m         f\u001b[38;5;241m.\u001b[39mwrite(prettify(\u001b[43mET\u001b[49m\u001b[38;5;241;43m.\u001b[39;49m\u001b[43mtostring\u001b[49m\u001b[43m(\u001b[49m\u001b[43mroot\u001b[49m\u001b[43m,\u001b[49m\u001b[43m \u001b[49m\u001b[43mencoding\u001b[49m\u001b[38;5;241;43m=\u001b[39;49m\u001b[38;5;124;43m\"\u001b[39;49m\u001b[38;5;124;43mutf-8\u001b[39;49m\u001b[38;5;124;43m\"\u001b[39;49m\u001b[43m)\u001b[49m\u001b[38;5;241m.\u001b[39mdecode(\u001b[38;5;124m\"\u001b[39m\u001b[38;5;124mutf-8\u001b[39m\u001b[38;5;124m\"\u001b[39m)))\n\u001b[1;32m    145\u001b[0m \u001b[38;5;66;03m# except Exception as e:\u001b[39;00m\n\u001b[1;32m    146\u001b[0m \n\u001b[1;32m    147\u001b[0m \u001b[38;5;66;03m#     errors.append({\u001b[39;00m\n\u001b[1;32m    148\u001b[0m \u001b[38;5;66;03m#         \"file\": file,\u001b[39;00m\n\u001b[1;32m    149\u001b[0m \u001b[38;5;66;03m#         \"error\": e\u001b[39;00m\n\u001b[1;32m    150\u001b[0m \u001b[38;5;66;03m#     })\u001b[39;00m\n",
      "File \u001b[0;32m~/.pyenv/versions/3.9.11/lib/python3.9/xml/etree/ElementTree.py:1109\u001b[0m, in \u001b[0;36mtostring\u001b[0;34m(element, encoding, method, xml_declaration, default_namespace, short_empty_elements)\u001b[0m\n\u001b[1;32m   1095\u001b[0m \u001b[38;5;250m\u001b[39m\u001b[38;5;124;03m\"\"\"Generate string representation of XML element.\u001b[39;00m\n\u001b[1;32m   1096\u001b[0m \n\u001b[1;32m   1097\u001b[0m \u001b[38;5;124;03mAll subelements are included.  If encoding is \"unicode\", a string\u001b[39;00m\n\u001b[0;32m   (...)\u001b[0m\n\u001b[1;32m   1106\u001b[0m \n\u001b[1;32m   1107\u001b[0m \u001b[38;5;124;03m\"\"\"\u001b[39;00m\n\u001b[1;32m   1108\u001b[0m stream \u001b[38;5;241m=\u001b[39m io\u001b[38;5;241m.\u001b[39mStringIO() \u001b[38;5;28;01mif\u001b[39;00m encoding \u001b[38;5;241m==\u001b[39m \u001b[38;5;124m'\u001b[39m\u001b[38;5;124municode\u001b[39m\u001b[38;5;124m'\u001b[39m \u001b[38;5;28;01melse\u001b[39;00m io\u001b[38;5;241m.\u001b[39mBytesIO()\n\u001b[0;32m-> 1109\u001b[0m \u001b[43mElementTree\u001b[49m\u001b[43m(\u001b[49m\u001b[43melement\u001b[49m\u001b[43m)\u001b[49m\u001b[38;5;241;43m.\u001b[39;49m\u001b[43mwrite\u001b[49m\u001b[43m(\u001b[49m\u001b[43mstream\u001b[49m\u001b[43m,\u001b[49m\u001b[43m \u001b[49m\u001b[43mencoding\u001b[49m\u001b[43m,\u001b[49m\n\u001b[1;32m   1110\u001b[0m \u001b[43m                           \u001b[49m\u001b[43mxml_declaration\u001b[49m\u001b[38;5;241;43m=\u001b[39;49m\u001b[43mxml_declaration\u001b[49m\u001b[43m,\u001b[49m\n\u001b[1;32m   1111\u001b[0m \u001b[43m                           \u001b[49m\u001b[43mdefault_namespace\u001b[49m\u001b[38;5;241;43m=\u001b[39;49m\u001b[43mdefault_namespace\u001b[49m\u001b[43m,\u001b[49m\n\u001b[1;32m   1112\u001b[0m \u001b[43m                           \u001b[49m\u001b[43mmethod\u001b[49m\u001b[38;5;241;43m=\u001b[39;49m\u001b[43mmethod\u001b[49m\u001b[43m,\u001b[49m\n\u001b[1;32m   1113\u001b[0m \u001b[43m                           \u001b[49m\u001b[43mshort_empty_elements\u001b[49m\u001b[38;5;241;43m=\u001b[39;49m\u001b[43mshort_empty_elements\u001b[49m\u001b[43m)\u001b[49m\n\u001b[1;32m   1114\u001b[0m \u001b[38;5;28;01mreturn\u001b[39;00m stream\u001b[38;5;241m.\u001b[39mgetvalue()\n",
      "File \u001b[0;32m~/.pyenv/versions/3.9.11/lib/python3.9/xml/etree/ElementTree.py:748\u001b[0m, in \u001b[0;36mElementTree.write\u001b[0;34m(self, file_or_filename, encoding, xml_declaration, default_namespace, method, short_empty_elements)\u001b[0m\n\u001b[1;32m    746\u001b[0m qnames, namespaces \u001b[38;5;241m=\u001b[39m _namespaces(\u001b[38;5;28mself\u001b[39m\u001b[38;5;241m.\u001b[39m_root, default_namespace)\n\u001b[1;32m    747\u001b[0m serialize \u001b[38;5;241m=\u001b[39m _serialize[method]\n\u001b[0;32m--> 748\u001b[0m \u001b[43mserialize\u001b[49m\u001b[43m(\u001b[49m\u001b[43mwrite\u001b[49m\u001b[43m,\u001b[49m\u001b[43m \u001b[49m\u001b[38;5;28;43mself\u001b[39;49m\u001b[38;5;241;43m.\u001b[39;49m\u001b[43m_root\u001b[49m\u001b[43m,\u001b[49m\u001b[43m \u001b[49m\u001b[43mqnames\u001b[49m\u001b[43m,\u001b[49m\u001b[43m \u001b[49m\u001b[43mnamespaces\u001b[49m\u001b[43m,\u001b[49m\n\u001b[1;32m    749\u001b[0m \u001b[43m          \u001b[49m\u001b[43mshort_empty_elements\u001b[49m\u001b[38;5;241;43m=\u001b[39;49m\u001b[43mshort_empty_elements\u001b[49m\u001b[43m)\u001b[49m\n",
      "File \u001b[0;32m~/.pyenv/versions/3.9.11/lib/python3.9/xml/etree/ElementTree.py:913\u001b[0m, in \u001b[0;36m_serialize_xml\u001b[0;34m(write, elem, qnames, namespaces, short_empty_elements, **kwargs)\u001b[0m\n\u001b[1;32m    911\u001b[0m         write(_escape_cdata(text))\n\u001b[1;32m    912\u001b[0m     \u001b[38;5;28;01mfor\u001b[39;00m e \u001b[38;5;129;01min\u001b[39;00m elem:\n\u001b[0;32m--> 913\u001b[0m         \u001b[43m_serialize_xml\u001b[49m\u001b[43m(\u001b[49m\u001b[43mwrite\u001b[49m\u001b[43m,\u001b[49m\u001b[43m \u001b[49m\u001b[43me\u001b[49m\u001b[43m,\u001b[49m\u001b[43m \u001b[49m\u001b[43mqnames\u001b[49m\u001b[43m,\u001b[49m\u001b[43m \u001b[49m\u001b[38;5;28;43;01mNone\u001b[39;49;00m\u001b[43m,\u001b[49m\n\u001b[1;32m    914\u001b[0m \u001b[43m                       \u001b[49m\u001b[43mshort_empty_elements\u001b[49m\u001b[38;5;241;43m=\u001b[39;49m\u001b[43mshort_empty_elements\u001b[49m\u001b[43m)\u001b[49m\n\u001b[1;32m    915\u001b[0m     write(\u001b[38;5;124m\"\u001b[39m\u001b[38;5;124m</\u001b[39m\u001b[38;5;124m\"\u001b[39m \u001b[38;5;241m+\u001b[39m tag \u001b[38;5;241m+\u001b[39m \u001b[38;5;124m\"\u001b[39m\u001b[38;5;124m>\u001b[39m\u001b[38;5;124m\"\u001b[39m)\n\u001b[1;32m    916\u001b[0m \u001b[38;5;28;01melse\u001b[39;00m:\n",
      "File \u001b[0;32m~/.pyenv/versions/3.9.11/lib/python3.9/xml/etree/ElementTree.py:913\u001b[0m, in \u001b[0;36m_serialize_xml\u001b[0;34m(write, elem, qnames, namespaces, short_empty_elements, **kwargs)\u001b[0m\n\u001b[1;32m    911\u001b[0m         write(_escape_cdata(text))\n\u001b[1;32m    912\u001b[0m     \u001b[38;5;28;01mfor\u001b[39;00m e \u001b[38;5;129;01min\u001b[39;00m elem:\n\u001b[0;32m--> 913\u001b[0m         \u001b[43m_serialize_xml\u001b[49m\u001b[43m(\u001b[49m\u001b[43mwrite\u001b[49m\u001b[43m,\u001b[49m\u001b[43m \u001b[49m\u001b[43me\u001b[49m\u001b[43m,\u001b[49m\u001b[43m \u001b[49m\u001b[43mqnames\u001b[49m\u001b[43m,\u001b[49m\u001b[43m \u001b[49m\u001b[38;5;28;43;01mNone\u001b[39;49;00m\u001b[43m,\u001b[49m\n\u001b[1;32m    914\u001b[0m \u001b[43m                       \u001b[49m\u001b[43mshort_empty_elements\u001b[49m\u001b[38;5;241;43m=\u001b[39;49m\u001b[43mshort_empty_elements\u001b[49m\u001b[43m)\u001b[49m\n\u001b[1;32m    915\u001b[0m     write(\u001b[38;5;124m\"\u001b[39m\u001b[38;5;124m</\u001b[39m\u001b[38;5;124m\"\u001b[39m \u001b[38;5;241m+\u001b[39m tag \u001b[38;5;241m+\u001b[39m \u001b[38;5;124m\"\u001b[39m\u001b[38;5;124m>\u001b[39m\u001b[38;5;124m\"\u001b[39m)\n\u001b[1;32m    916\u001b[0m \u001b[38;5;28;01melse\u001b[39;00m:\n",
      "File \u001b[0;32m~/.pyenv/versions/3.9.11/lib/python3.9/xml/etree/ElementTree.py:913\u001b[0m, in \u001b[0;36m_serialize_xml\u001b[0;34m(write, elem, qnames, namespaces, short_empty_elements, **kwargs)\u001b[0m\n\u001b[1;32m    911\u001b[0m         write(_escape_cdata(text))\n\u001b[1;32m    912\u001b[0m     \u001b[38;5;28;01mfor\u001b[39;00m e \u001b[38;5;129;01min\u001b[39;00m elem:\n\u001b[0;32m--> 913\u001b[0m         \u001b[43m_serialize_xml\u001b[49m\u001b[43m(\u001b[49m\u001b[43mwrite\u001b[49m\u001b[43m,\u001b[49m\u001b[43m \u001b[49m\u001b[43me\u001b[49m\u001b[43m,\u001b[49m\u001b[43m \u001b[49m\u001b[43mqnames\u001b[49m\u001b[43m,\u001b[49m\u001b[43m \u001b[49m\u001b[38;5;28;43;01mNone\u001b[39;49;00m\u001b[43m,\u001b[49m\n\u001b[1;32m    914\u001b[0m \u001b[43m                       \u001b[49m\u001b[43mshort_empty_elements\u001b[49m\u001b[38;5;241;43m=\u001b[39;49m\u001b[43mshort_empty_elements\u001b[49m\u001b[43m)\u001b[49m\n\u001b[1;32m    915\u001b[0m     write(\u001b[38;5;124m\"\u001b[39m\u001b[38;5;124m</\u001b[39m\u001b[38;5;124m\"\u001b[39m \u001b[38;5;241m+\u001b[39m tag \u001b[38;5;241m+\u001b[39m \u001b[38;5;124m\"\u001b[39m\u001b[38;5;124m>\u001b[39m\u001b[38;5;124m\"\u001b[39m)\n\u001b[1;32m    916\u001b[0m \u001b[38;5;28;01melse\u001b[39;00m:\n",
      "File \u001b[0;32m~/.pyenv/versions/3.9.11/lib/python3.9/xml/etree/ElementTree.py:906\u001b[0m, in \u001b[0;36m_serialize_xml\u001b[0;34m(write, elem, qnames, namespaces, short_empty_elements, **kwargs)\u001b[0m\n\u001b[1;32m    904\u001b[0m             v \u001b[38;5;241m=\u001b[39m qnames[v\u001b[38;5;241m.\u001b[39mtext]\n\u001b[1;32m    905\u001b[0m         \u001b[38;5;28;01melse\u001b[39;00m:\n\u001b[0;32m--> 906\u001b[0m             v \u001b[38;5;241m=\u001b[39m \u001b[43m_escape_attrib\u001b[49m\u001b[43m(\u001b[49m\u001b[43mv\u001b[49m\u001b[43m)\u001b[49m\n\u001b[1;32m    907\u001b[0m         write(\u001b[38;5;124m\"\u001b[39m\u001b[38;5;124m \u001b[39m\u001b[38;5;132;01m%s\u001b[39;00m\u001b[38;5;124m=\u001b[39m\u001b[38;5;130;01m\\\"\u001b[39;00m\u001b[38;5;132;01m%s\u001b[39;00m\u001b[38;5;130;01m\\\"\u001b[39;00m\u001b[38;5;124m\"\u001b[39m \u001b[38;5;241m%\u001b[39m (qnames[k], v))\n\u001b[1;32m    908\u001b[0m \u001b[38;5;28;01mif\u001b[39;00m text \u001b[38;5;129;01mor\u001b[39;00m \u001b[38;5;28mlen\u001b[39m(elem) \u001b[38;5;129;01mor\u001b[39;00m \u001b[38;5;129;01mnot\u001b[39;00m short_empty_elements:\n",
      "File \u001b[0;32m~/.pyenv/versions/3.9.11/lib/python3.9/xml/etree/ElementTree.py:1075\u001b[0m, in \u001b[0;36m_escape_attrib\u001b[0;34m(text)\u001b[0m\n\u001b[1;32m   1073\u001b[0m     \u001b[38;5;28;01mreturn\u001b[39;00m text\n\u001b[1;32m   1074\u001b[0m \u001b[38;5;28;01mexcept\u001b[39;00m (\u001b[38;5;167;01mTypeError\u001b[39;00m, \u001b[38;5;167;01mAttributeError\u001b[39;00m):\n\u001b[0;32m-> 1075\u001b[0m     \u001b[43m_raise_serialization_error\u001b[49m\u001b[43m(\u001b[49m\u001b[43mtext\u001b[49m\u001b[43m)\u001b[49m\n",
      "File \u001b[0;32m~/.pyenv/versions/3.9.11/lib/python3.9/xml/etree/ElementTree.py:1029\u001b[0m, in \u001b[0;36m_raise_serialization_error\u001b[0;34m(text)\u001b[0m\n\u001b[1;32m   1028\u001b[0m \u001b[38;5;28;01mdef\u001b[39;00m \u001b[38;5;21m_raise_serialization_error\u001b[39m(text):\n\u001b[0;32m-> 1029\u001b[0m     \u001b[38;5;28;01mraise\u001b[39;00m \u001b[38;5;167;01mTypeError\u001b[39;00m(\n\u001b[1;32m   1030\u001b[0m         \u001b[38;5;124m\"\u001b[39m\u001b[38;5;124mcannot serialize \u001b[39m\u001b[38;5;132;01m%r\u001b[39;00m\u001b[38;5;124m (type \u001b[39m\u001b[38;5;132;01m%s\u001b[39;00m\u001b[38;5;124m)\u001b[39m\u001b[38;5;124m\"\u001b[39m \u001b[38;5;241m%\u001b[39m (text, \u001b[38;5;28mtype\u001b[39m(text)\u001b[38;5;241m.\u001b[39m\u001b[38;5;18m__name__\u001b[39m)\n\u001b[1;32m   1031\u001b[0m         )\n",
      "\u001b[0;31mTypeError\u001b[0m: cannot serialize None (type NoneType)"
     ]
    }
   ],
   "source": [
    "files = glob(\"../docs/tei3_original/*.xml\")\n",
    "\n",
    "# files = glob(\"../docs/tei3_original/DSCN0121.xml\")\n",
    "# files = glob(\"../docs/tei3_original/DSCN1969.xml\")\n",
    "\n",
    "files.sort()\n",
    "\n",
    "ET.register_namespace('', \"http://www.tei-c.org/ns/1.0\")  # デフォルト名前空間として設定\n",
    "\n",
    "missings = []\n",
    "\n",
    "errors = []\n",
    "\n",
    "for file in files:\n",
    "\n",
    "    # try:\n",
    "        tree = ET.parse(file)\n",
    "        root = tree.getroot()\n",
    "\n",
    "        surfaceGrp = root.findall(\".//{http://www.tei-c.org/ns/1.0}surfaceGrp\")\n",
    "\n",
    "        facsimiles = root.find(\".//{http://www.tei-c.org/ns/1.0}facsimile\")\n",
    "\n",
    "        for surfaceGrp in surfaceGrp:\n",
    "\n",
    "            manifest = surfaceGrp.get(\"facs\")\n",
    "\n",
    "            # print(manifest)\n",
    "\n",
    "            manifest_path = \"../docs/old/iiif/\" + manifest.split(\"/\")[-2] + \"/manifest.json\"\n",
    "\n",
    "            \n",
    "\n",
    "\n",
    "\n",
    "            with open(manifest_path, \"r\") as f:\n",
    "                manifest_json = json.load(f)\n",
    "\n",
    "            canvas_map = {}\n",
    "\n",
    "            for canvas in manifest_json[\"sequences\"][0][\"canvases\"]:\n",
    "                canvas_map[canvas[\"@id\"]] = canvas[\"label\"]\n",
    "\n",
    "            surfaces = surfaceGrp.findall(\".//{http://www.tei-c.org/ns/1.0}surface\")\n",
    "\n",
    "\n",
    "\n",
    "\n",
    "\n",
    "            for surface in surfaces:\n",
    "                \n",
    "                graphics = surface.findall(\".//{http://www.tei-c.org/ns/1.0}graphic\")\n",
    "                \n",
    "                zones = surface.findall(\".//{http://www.tei-c.org/ns/1.0}zone\")\n",
    "\n",
    "                surface_new = ET.Element(\"surface\")\n",
    "                facsimiles.append(surface_new)\n",
    "\n",
    "                for graphic in graphics:\n",
    "                    # print(graphic.attrib)\n",
    "\n",
    "                    \n",
    "\n",
    "                    canvas_id = graphic.get(\"n\")\n",
    "\n",
    "                    # print(\"canvas_id\", canvas_id)\n",
    "\n",
    "                    if \"@value\" not in canvas_map[canvas_id]:\n",
    "                        missings.append({\n",
    "                            \"file\": file,\n",
    "                            \"canvas_id\": canvas_id\n",
    "                        })\n",
    "                        continue\n",
    "\n",
    "                    filename = canvas_map[canvas_id][\"@value\"]\n",
    "\n",
    "                    # print(filename)\n",
    "\n",
    "                    file_basename = filename.split(\".\")[0]\n",
    "\n",
    "                    '''\n",
    "                    if file_basename not in old_map:\n",
    "                        missings.append({\n",
    "                            \"file\": file,\n",
    "                            \"basename\": file_basename\n",
    "                        })\n",
    "                        continue\n",
    "\n",
    "                    old_info = old_map[file_basename]\n",
    "                    '''\n",
    "\n",
    "                    old_folder = old_map_extra[file_basename]\n",
    "\n",
    "                    graphic_new = ET.Element(\"graphic\")\n",
    "                    graphic_new.set(\"url\", \"../../../\" + old_folder.replace(\" \", \"%20\") + \"/\" + filename)\n",
    "\n",
    "                    # print(graphic_new.attrib)\n",
    "\n",
    "                    surface_new.append(graphic_new)\n",
    "                    for zone in zones:\n",
    "                        zone_new = ET.Element(\"zone\")\n",
    "                        # 属性値が存在する場合のみセット\n",
    "                        for attr, value in [\n",
    "                            (\"ulx\", zone.get(\"uly\")),\n",
    "                            (\"uly\", zone.get(\"uly\")),\n",
    "                            (\"lrx\", zone.get(\"lrx\")),\n",
    "                            (\"lry\", zone.get(\"lry\"))\n",
    "                        ]:\n",
    "                            if value is not None:\n",
    "                                zone_new.set(attr, value)\n",
    "\n",
    "                        # xml:idも同様にチェック\n",
    "                        xml_id = zone.get(\"{http://www.w3.org/XML/1998/namespace}id\")\n",
    "                        if xml_id is not None:\n",
    "                            zone_new.set(\"{http://www.w3.org/XML/1998/namespace}id\", xml_id)\n",
    "                        \n",
    "                        surface_new.append(zone_new)\n",
    "            \n",
    "                    \n",
    "\n",
    "                    ## new\n",
    "\n",
    "                    if file_basename not in new_map:\n",
    "                        continue\n",
    "\n",
    "                    old_info = old_map[file_basename]\n",
    "\n",
    "                    new_id = old_info[\"id_new\"]\n",
    "\n",
    "                    # print(\"new_id\", new_id)\n",
    "\n",
    "                    new_files = new_map[new_id]\n",
    "\n",
    "                    for new_file in new_files:\n",
    "\n",
    "                        surface_new = ET.Element(\"surface\")\n",
    "                        facsimiles.append(surface_new)\n",
    "\n",
    "                        graphic_new = ET.Element(\"graphic\")\n",
    "                        graphic_new.set(\"url\", \"../../../\" + new_file.replace(\" \", \"%20\"))\n",
    "                        surface_new.append(graphic_new)\n",
    "\n",
    "            # del surfaceGrp\n",
    "\n",
    "            # surfaceGrp.insert(0, surface_new)\n",
    "\n",
    "            facsimiles.remove(surfaceGrp)\n",
    "\n",
    "        opath = file.replace(\"tei3_original\", \"tei3\")\n",
    "        with open(opath, \"w\") as f:\n",
    "            f.write(prettify(ET.tostring(root, encoding=\"utf-8\").decode(\"utf-8\")))\n",
    "\n",
    "    # except Exception as e:\n",
    "\n",
    "    #     errors.append({\n",
    "    #         \"file\": file,\n",
    "    #         \"error\": e\n",
    "    #     })\n",
    "\n",
    "\n",
    "\n"
   ]
  },
  {
   "cell_type": "code",
   "execution_count": 221,
   "metadata": {},
   "outputs": [
    {
     "data": {
      "text/plain": [
       "1"
      ]
     },
     "execution_count": 221,
     "metadata": {},
     "output_type": "execute_result"
    }
   ],
   "source": [
    "len(missings)"
   ]
  },
  {
   "cell_type": "code",
   "execution_count": 222,
   "metadata": {},
   "outputs": [
    {
     "data": {
      "text/plain": [
       "[{'file': '../docs/tei3_original/DSCN1969.xml',\n",
       "  'canvas_id': 'https://diyhistory.org/public/phr2/iiif/1499/canvas/p3'}]"
      ]
     },
     "execution_count": 222,
     "metadata": {},
     "output_type": "execute_result"
    }
   ],
   "source": [
    "missings"
   ]
  },
  {
   "cell_type": "code",
   "execution_count": 223,
   "metadata": {},
   "outputs": [
    {
     "data": {
      "text/plain": [
       "3"
      ]
     },
     "execution_count": 223,
     "metadata": {},
     "output_type": "execute_result"
    }
   ],
   "source": [
    "len(errors)"
   ]
  },
  {
   "cell_type": "code",
   "execution_count": 224,
   "metadata": {},
   "outputs": [
    {
     "data": {
      "text/plain": [
       "[{'file': '../docs/tei3_original/DSCN0216.xml',\n",
       "  'error': TypeError('cannot serialize None (type NoneType)')},\n",
       " {'file': '../docs/tei3_original/DSCN0241.xml',\n",
       "  'error': TypeError('cannot serialize None (type NoneType)')},\n",
       " {'file': '../docs/tei3_original/DSCN0253.xml',\n",
       "  'error': TypeError('cannot serialize None (type NoneType)')}]"
      ]
     },
     "execution_count": 224,
     "metadata": {},
     "output_type": "execute_result"
    }
   ],
   "source": [
    "errors"
   ]
  },
  {
   "cell_type": "code",
   "execution_count": null,
   "metadata": {},
   "outputs": [],
   "source": []
  }
 ],
 "metadata": {
  "kernelspec": {
   "display_name": ".venv",
   "language": "python",
   "name": "python3"
  },
  "language_info": {
   "codemirror_mode": {
    "name": "ipython",
    "version": 3
   },
   "file_extension": ".py",
   "mimetype": "text/x-python",
   "name": "python",
   "nbconvert_exporter": "python",
   "pygments_lexer": "ipython3",
   "version": "3.9.11"
  }
 },
 "nbformat": 4,
 "nbformat_minor": 2
}
