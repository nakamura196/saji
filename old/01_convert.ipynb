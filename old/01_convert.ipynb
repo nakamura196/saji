{
 "cells": [
  {
   "cell_type": "code",
   "execution_count": 189,
   "metadata": {},
   "outputs": [],
   "source": [
    "import pandas as pd\n",
    "from glob import glob\n",
    "import xml.etree.ElementTree as ET\n",
    "import json"
   ]
  },
  {
   "cell_type": "code",
   "execution_count": 190,
   "metadata": {},
   "outputs": [],
   "source": [
    "from xml.dom import minidom\n",
    "import re"
   ]
  },
  {
   "cell_type": "code",
   "execution_count": 191,
   "metadata": {},
   "outputs": [],
   "source": [
    "\n",
    "def prettify(rough_string):\n",
    "    reparsed = minidom.parseString(rough_string)\n",
    "    xml_declaration = '''<?xml version=\"1.0\" encoding=\"UTF-8\"?>\n",
    "<?xml-model href=\"http://www.tei-c.org/release/xml/tei/custom/schema/relaxng/tei_all.rng\" type=\"application/xml\" schematypens=\"http://relaxng.org/ns/structure/1.0\"?>\n",
    "<?xml-model href=\"http://www.tei-c.org/release/xml/tei/custom/schema/relaxng/tei_all.rng\" type=\"application/xml\"\n",
    "\tschematypens=\"http://purl.oclc.org/dsdl/schematron\"?>'''\n",
    "\n",
    "    # まずprettyXMLを取得\n",
    "    pretty = reparsed.toprettyxml(indent=\"\\t\")\n",
    "    \n",
    "    # XML宣言を置き換え\n",
    "    pretty = re.sub(r'<\\?xml.*?\\?>', xml_declaration, pretty, flags=re.DOTALL)\n",
    "    \n",
    "    # 整形処理\n",
    "    pretty = re.sub(r\"[\\t ]+\\n\", \"\", pretty)  # インデント後の不要な改行を削除\n",
    "    pretty = pretty.replace(\">\\n\\n\\t<\", \">\\n\\t<\")  # 不要な空行を削除\n",
    "    pretty = re.sub(r\"\\n\\s*\\n\", \"\\n\", pretty)  # 連続した改行（空白行を含む）を単一の改行に置換\n",
    "    \n",
    "    # エスケープされた引用符を元に戻す\n",
    "    pretty = pretty.replace(\"&quot;\", \"\\\"\")\n",
    "    \n",
    "    return pretty"
   ]
  },
  {
   "cell_type": "code",
   "execution_count": 192,
   "metadata": {},
   "outputs": [],
   "source": [
    "old_path = \"./data/カタログデータ - 新規画像撮影の対応表.csv\"\n",
    "\n",
    "old_df = pd.read_csv(old_path)\n",
    "\n",
    "old_map = {}\n",
    "\n",
    "old_map_extra = {}\n",
    "\n",
    "for index, row in old_df.iterrows():\n",
    "    value = row[\"画像一覧\"]\n",
    "    if pd.isna(value):\n",
    "        continue\n",
    "\n",
    "    id_new = row[\"dcterms:identifer\"]\n",
    "\n",
    "    if pd.isna(id_new):\n",
    "        continue\n",
    "    \n",
    "    old_map[row[\"現在のアイテムID\"]] = {\n",
    "        \"id_new\": id_new,\n",
    "        \"files\": value.split(\"|\"),\n",
    "        \"folder\": row[\"現在のフォルダ\"]\n",
    "    }\n",
    "\n",
    "    for basename in value.split(\"|\"):\n",
    "        old_map_extra[basename] = row[\"現在のフォルダ\"]\n",
    "\n",
    "# old_map\n",
    "\n",
    "with open(\"./tmp/old_map.json\", \"w\") as f:\n",
    "    json.dump(old_map, f)\n",
    "\n",
    "with open(\"./tmp/old_map_extra.json\", \"w\") as f:\n",
    "    json.dump(old_map_extra, f)\n"
   ]
  },
  {
   "cell_type": "code",
   "execution_count": 193,
   "metadata": {},
   "outputs": [],
   "source": [
    "# old_map_extra"
   ]
  },
  {
   "cell_type": "code",
   "execution_count": 194,
   "metadata": {},
   "outputs": [],
   "source": [
    "new_path = \"./data/カタログデータ - 画像のID一覧_OCR.csv\"\n",
    "\n",
    "new_df = pd.read_csv(new_path)\n",
    "\n",
    "new_map = {}\n",
    "\n",
    "for index, row in new_df.iterrows():\n",
    "    id = row[\"o:item\"]\n",
    "\n",
    "\n",
    "    if pd.isna(id):\n",
    "        continue\n",
    "\n",
    "    if id not in new_map:\n",
    "        new_map[id] = []\n",
    "\n",
    "    image_path = row[\"画像のファイルパス\"] + \".JPG\"\n",
    "\n",
    "    new_map[id].append(image_path)\n",
    "\n",
    "# new_map\n",
    "\n",
    "with open(\"./tmp/new_map.json\", \"w\") as f:\n",
    "    json.dump(new_map, f)\n"
   ]
  },
  {
   "cell_type": "code",
   "execution_count": 195,
   "metadata": {},
   "outputs": [
    {
     "name": "stdout",
     "output_type": "stream",
     "text": [
      "1060\n"
     ]
    }
   ],
   "source": [
    "files = glob(\"./old/tei3_original/*.xml\")\n",
    "\n",
    "# files = glob(\"./old/tei3_original/DSCN0121.xml\")\n",
    "\n",
    "print(len(files))\n",
    "# files = glob(\"../docs/tei3_original/DSCN1969.xml\")\n",
    "\n",
    "files.sort()\n",
    "\n",
    "ET.register_namespace('', \"http://www.tei-c.org/ns/1.0\")  # デフォルト名前空間として設定\n",
    "\n",
    "missings = []\n",
    "\n",
    "errors = []\n",
    "\n",
    "for file in files:\n",
    "\n",
    "    # try:\n",
    "        tree = ET.parse(file)\n",
    "        root = tree.getroot()\n",
    "\n",
    "        surfaceGrp = root.findall(\".//{http://www.tei-c.org/ns/1.0}surfaceGrp\")\n",
    "\n",
    "        facsimiles = root.find(\".//{http://www.tei-c.org/ns/1.0}facsimile\")\n",
    "\n",
    "        for surfaceGrp in surfaceGrp:\n",
    "\n",
    "            manifest = surfaceGrp.get(\"facs\")\n",
    "\n",
    "            # print(manifest)\n",
    "\n",
    "            manifest_path = \"./old/iiif/\" + manifest.split(\"/\")[-2] + \"/manifest.json\"\n",
    "\n",
    "            \n",
    "\n",
    "\n",
    "\n",
    "            with open(manifest_path, \"r\") as f:\n",
    "                manifest_json = json.load(f)\n",
    "\n",
    "            canvas_map = {}\n",
    "\n",
    "            for canvas in manifest_json[\"sequences\"][0][\"canvases\"]:\n",
    "                canvas_map[canvas[\"@id\"]] = canvas[\"label\"]\n",
    "\n",
    "            surfaces = surfaceGrp.findall(\".//{http://www.tei-c.org/ns/1.0}surface\")\n",
    "\n",
    "\n",
    "\n",
    "\n",
    "\n",
    "            for surface in surfaces:\n",
    "                \n",
    "                graphics = surface.findall(\".//{http://www.tei-c.org/ns/1.0}graphic\")\n",
    "                \n",
    "                zones = surface.findall(\".//{http://www.tei-c.org/ns/1.0}zone\")\n",
    "\n",
    "                surface_new = ET.Element(\"surface\")\n",
    "                facsimiles.append(surface_new)\n",
    "\n",
    "                for graphic in graphics:\n",
    "                    # print(graphic.attrib)\n",
    "\n",
    "                    \n",
    "\n",
    "                    canvas_id = graphic.get(\"n\")\n",
    "\n",
    "                    # print(\"canvas_id\", canvas_id)\n",
    "\n",
    "                    if \"@value\" not in canvas_map[canvas_id]:\n",
    "                        missings.append({\n",
    "                            \"file\": file,\n",
    "                            \"canvas_id\": canvas_id\n",
    "                        })\n",
    "                        continue\n",
    "\n",
    "                    filename = canvas_map[canvas_id][\"@value\"]\n",
    "\n",
    "                    # print(filename)\n",
    "\n",
    "                    file_basename = filename.split(\".\")[0]\n",
    "\n",
    "                    '''\n",
    "                    if file_basename not in old_map:\n",
    "                        missings.append({\n",
    "                            \"file\": file,\n",
    "                            \"basename\": file_basename\n",
    "                        })\n",
    "                        continue\n",
    "\n",
    "                    old_info = old_map[file_basename]\n",
    "                    '''\n",
    "\n",
    "                    if file_basename not in old_map_extra:\n",
    "                        errors.append({\n",
    "                            \"file\": file,\n",
    "                            \"basename\": file_basename\n",
    "                        })\n",
    "                        continue\n",
    "\n",
    "                    old_folder = old_map_extra[file_basename]\n",
    "\n",
    "                    graphic_new = ET.Element(\"graphic\")\n",
    "                    graphic_new.set(\"url\", \"../../../\" + old_folder.replace(\" \", \"%20\") + \"/\" + filename)\n",
    "\n",
    "                    # print(graphic_new.attrib)\n",
    "\n",
    "                    surface_new.append(graphic_new)\n",
    "                    for zone in zones:\n",
    "                        zone_new = ET.Element(\"zone\")\n",
    "                        # 属性値が存在する場合のみセット\n",
    "                        for attr, value in [\n",
    "                            (\"ulx\", zone.get(\"uly\")),\n",
    "                            (\"uly\", zone.get(\"uly\")),\n",
    "                            (\"lrx\", zone.get(\"lrx\")),\n",
    "                            (\"lry\", zone.get(\"lry\"))\n",
    "                        ]:\n",
    "                            if value is not None:\n",
    "                                zone_new.set(attr, value)\n",
    "\n",
    "                        # xml:idも同様にチェック\n",
    "                        xml_id = zone.get(\"{http://www.w3.org/XML/1998/namespace}id\")\n",
    "                        if xml_id is not None:\n",
    "                            zone_new.set(\"{http://www.w3.org/XML/1998/namespace}id\", xml_id)\n",
    "                        \n",
    "                        surface_new.append(zone_new)\n",
    "\n",
    "                    ## new\n",
    "\n",
    "                    if file_basename not in old_map:\n",
    "                        continue\n",
    "\n",
    "                    old_info = old_map[file_basename]\n",
    "\n",
    "                    new_id = old_info[\"id_new\"]\n",
    "                    \n",
    "\n",
    "                    \n",
    "\n",
    "                    if new_id not in new_map:\n",
    "                        errors.append({\n",
    "                            \"file\": file,\n",
    "                            \"new_id\": new_id\n",
    "                        })\n",
    "                        continue\n",
    "\n",
    "                    new_files = new_map[new_id]\n",
    "\n",
    "                    for new_file in new_files:\n",
    "\n",
    "                        surface_new = ET.Element(\"surface\")\n",
    "                        facsimiles.append(surface_new)\n",
    "\n",
    "                        graphic_new = ET.Element(\"graphic\")\n",
    "                        graphic_new.set(\"url\", \"../../../\" + new_file.replace(\" \", \"%20\"))\n",
    "                        surface_new.append(graphic_new)\n",
    "\n",
    "            # del surfaceGrp\n",
    "\n",
    "            # surfaceGrp.insert(0, surface_new)\n",
    "\n",
    "            facsimiles.remove(surfaceGrp)\n",
    "\n",
    "        sourceDesc = root.find(\".//{http://www.tei-c.org/ns/1.0}sourceDesc\")\n",
    "        json_str = sourceDesc.find(\".//{http://www.tei-c.org/ns/1.0}p\").text\n",
    "\n",
    "        # xenoDataを作成\n",
    "        teiHeader = root.find(\".//{http://www.tei-c.org/ns/1.0}teiHeader\")\n",
    "        xenoData = ET.Element(\"{http://www.tei-c.org/ns/1.0}xenoData\")\n",
    "        xenoData.text = json_str\n",
    "\n",
    "        teiHeader.append(xenoData)\n",
    "\n",
    "        # sourceDespのp要素を空にする\n",
    "        sourceDesc.find(\".//{http://www.tei-c.org/ns/1.0}p\").text = \"\"\n",
    "\n",
    "        opath = file.replace(\"./old/tei3_original\", \"../docs/tei3\")\n",
    "        with open(opath, \"w\") as f:\n",
    "            f.write(prettify(ET.tostring(root, encoding=\"utf-8\").decode(\"utf-8\")))\n",
    "\n",
    "    # except Exception as e:\n",
    "\n",
    "    #     errors.append({\n",
    "    #         \"file\": file,\n",
    "    #         \"error\": e\n",
    "    #     })\n",
    "\n",
    "\n",
    "\n"
   ]
  },
  {
   "cell_type": "code",
   "execution_count": 196,
   "metadata": {},
   "outputs": [
    {
     "data": {
      "text/plain": [
       "1"
      ]
     },
     "execution_count": 196,
     "metadata": {},
     "output_type": "execute_result"
    }
   ],
   "source": [
    "len(missings)"
   ]
  },
  {
   "cell_type": "code",
   "execution_count": 197,
   "metadata": {},
   "outputs": [
    {
     "data": {
      "text/plain": [
       "[{'file': './old/tei3_original/DSCN1969.xml',\n",
       "  'canvas_id': 'https://diyhistory.org/public/phr2/iiif/1499/canvas/p3'}]"
      ]
     },
     "execution_count": 197,
     "metadata": {},
     "output_type": "execute_result"
    }
   ],
   "source": [
    "missings"
   ]
  },
  {
   "cell_type": "code",
   "execution_count": 198,
   "metadata": {},
   "outputs": [
    {
     "data": {
      "text/plain": [
       "28"
      ]
     },
     "execution_count": 198,
     "metadata": {},
     "output_type": "execute_result"
    }
   ],
   "source": [
    "len(errors)"
   ]
  },
  {
   "cell_type": "code",
   "execution_count": 199,
   "metadata": {},
   "outputs": [],
   "source": [
    "errors\n",
    "\n",
    "with open(\"./tmp/missings.json\", \"w\") as f:\n",
    "    json.dump(missings, f, indent=4, ensure_ascii=False)\n",
    "\n",
    "with open(\"./tmp/errors.json\", \"w\") as f:\n",
    "    json.dump(errors, f, indent=4, ensure_ascii=False)"
   ]
  },
  {
   "cell_type": "code",
   "execution_count": null,
   "metadata": {},
   "outputs": [],
   "source": []
  }
 ],
 "metadata": {
  "kernelspec": {
   "display_name": ".venv",
   "language": "python",
   "name": "python3"
  },
  "language_info": {
   "codemirror_mode": {
    "name": "ipython",
    "version": 3
   },
   "file_extension": ".py",
   "mimetype": "text/x-python",
   "name": "python",
   "nbconvert_exporter": "python",
   "pygments_lexer": "ipython3",
   "version": "3.9.11"
  }
 },
 "nbformat": 4,
 "nbformat_minor": 2
}
